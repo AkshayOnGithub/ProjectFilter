{
 "cells": [
  {
   "cell_type": "code",
   "execution_count": 109,
   "metadata": {
    "collapsed": true
   },
   "outputs": [],
   "source": [
    "from pathlib import Path\n",
    "from pipelines.impl.tokenizing import to_sentences\n",
    "from dataload import dataloading as dl\n",
    "RAW_SCRAPING_DIR = Path(\"../resources/scraping\")"
   ]
  },
  {
   "cell_type": "code",
   "execution_count": 110,
   "outputs": [
    {
     "data": {
      "text/plain": "PosixPath('../resources/scraping')"
     },
     "execution_count": 110,
     "metadata": {},
     "output_type": "execute_result"
    }
   ],
   "source": [
    "RAW_SCRAPING_DIR"
   ],
   "metadata": {
    "collapsed": false
   }
  },
  {
   "cell_type": "code",
   "execution_count": 111,
   "outputs": [
    {
     "data": {
      "text/plain": "dict_items([('fedora', PosixPath('../resources/scraping/fedora.yml')), ('wwf', PosixPath('../resources/scraping/wwf.yml')), ('fda', PosixPath('../resources/scraping/fda.yml')), ('europcar', PosixPath('../resources/scraping/europcar.yml')), ('nih', PosixPath('../resources/scraping/nih.yml')), ('olympics', PosixPath('../resources/scraping/olympics.yml'))])"
     },
     "execution_count": 111,
     "metadata": {},
     "output_type": "execute_result"
    }
   ],
   "source": [
    "loader = dl.DataFilesRegistry(RAW_SCRAPING_DIR)\n",
    "loader.items()"
   ],
   "metadata": {
    "collapsed": false
   }
  },
  {
   "cell_type": "code",
   "execution_count": 112,
   "outputs": [],
   "source": [
    "nih_paragraphs = loader.load_items('olympics')"
   ],
   "metadata": {
    "collapsed": false
   }
  },
  {
   "cell_type": "code",
   "execution_count": 113,
   "outputs": [
    {
     "data": {
      "text/plain": "'What is Olympism?'"
     },
     "execution_count": 113,
     "metadata": {},
     "output_type": "execute_result"
    }
   ],
   "source": [
    "# Pair paragraphs are questions\n",
    "nih_paragraphs[0]"
   ],
   "metadata": {
    "collapsed": false
   }
  },
  {
   "cell_type": "code",
   "execution_count": 114,
   "outputs": [
    {
     "data": {
      "text/plain": "'Olympism is a philosophy of life, exalting and combining in a balanced whole the qualities of body, will and mind. Blending sport with culture and education, Olympism seeks to create a way of life based on the joy of effort, the educational value of good example, social responsibility and respect for universal fundamental ethical principles. The goal of Olympism is to place sport at the service of the harmonious development of humankind, with a view to promoting a peaceful society concerned with the preservation of human dignity.'"
     },
     "execution_count": 114,
     "metadata": {},
     "output_type": "execute_result"
    }
   ],
   "source": [
    "# Following paragraph is answer\n",
    "nih_paragraphs[1]"
   ],
   "metadata": {
    "collapsed": false
   }
  },
  {
   "cell_type": "code",
   "execution_count": 115,
   "outputs": [],
   "source": [
    "def print_paragraph(para:str, indent = \"\", prefix = \"\"):\n",
    "    for idx, sent in enumerate(to_sentences(para)):\n",
    "        print(f\"{indent}Sentence {prefix}{idx+1}: {sent}\")"
   ],
   "metadata": {
    "collapsed": false
   }
  },
  {
   "cell_type": "code",
   "execution_count": 116,
   "outputs": [
    {
     "name": "stdout",
     "output_type": "stream",
     "text": [
      "Sentence 1: Olympism is a philosophy of life, exalting and combining in a balanced whole the qualities of body, will and mind.\n",
      "Sentence 2: Blending sport with culture and education, Olympism seeks to create a way of life based on the joy of effort, the educational value of good example, social responsibility and respect for universal fundamental ethical principles.\n",
      "Sentence 3: The goal of Olympism is to place sport at the service of the harmonious development of humankind, with a view to promoting a peaceful society concerned with the preservation of human dignity.\n"
     ]
    }
   ],
   "source": [
    "print_paragraph(nih_paragraphs[1])"
   ],
   "metadata": {
    "collapsed": false
   }
  },
  {
   "cell_type": "code",
   "execution_count": 117,
   "outputs": [],
   "source": [
    "def print_paragraphs(paras: list[str]):\n",
    "    for para_idx, para in enumerate(paras):\n",
    "        question_id = para_idx // 2 + 1\n",
    "        if para_idx % 2 == 0:\n",
    "            print(f\"Question {question_id}:\")\n",
    "        else:\n",
    "            print(f\"Answer {question_id}:\")\n",
    "\n",
    "        print_paragraph(para, indent = \"\\t\", prefix = f\"{question_id}.\")"
   ],
   "metadata": {
    "collapsed": false
   }
  },
  {
   "cell_type": "code",
   "execution_count": 119,
   "outputs": [
    {
     "name": "stdout",
     "output_type": "stream",
     "text": [
      "Question 1:\n",
      "\tSentence 1.1: What is Olympism?\n",
      "Answer 1:\n",
      "\tSentence 1.1: Olympism is a philosophy of life, exalting and combining in a balanced whole the qualities of body, will and mind.\n",
      "\tSentence 1.2: Blending sport with culture and education, Olympism seeks to create a way of life based on the joy of effort, the educational value of good example, social responsibility and respect for universal fundamental ethical principles.\n",
      "\tSentence 1.3: The goal of Olympism is to place sport at the service of the harmonious development of humankind, with a view to promoting a peaceful society concerned with the preservation of human dignity.\n",
      "Question 2:\n",
      "\tSentence 2.1: What is the Olympic Charter?\n",
      "Answer 2:\n",
      "\tSentence 2.1: The Olympic Charter (OC) is the codification of the Fundamental Principles of Olympism, Rules and byelaws adopted by the International Olympic Committee (IOC).\n",
      "\tSentence 2.2: It governs the organisation, action and operation of the Olympic Movement and sets forth the conditions for the celebration of the Olympic Games.\n",
      "\tSentence 2.3: The Fundamental Principles of the Olympic Charter are based on a document written by Pierre de Coubertin in around 1898.\n",
      "\tSentence 2.4: The first edition was published in 1908 under the title of Annuaire du Comité International Olympique.\n",
      "\tSentence 2.5: The Olympic Charter was later known by other names, including “Olympic Rules”, before finally taking the name Olympic Charter in 1978.\n",
      "Question 3:\n",
      "\tSentence 3.1: What are the Olympic Values?\n",
      "Answer 3:\n",
      "\tSentence 3.1: The three values of Olympism are excellence, respect and friendship .\n",
      "\tSentence 3.2: They constitute the foundation on which the Olympic Movement builds its activities to promote sport, culture and education with a view to building a better world.\n"
     ]
    }
   ],
   "source": [
    "print_paragraphs(nih_paragraphs[:6])"
   ],
   "metadata": {
    "collapsed": false
   }
  },
  {
   "cell_type": "code",
   "execution_count": 118,
   "outputs": [],
   "source": [],
   "metadata": {
    "collapsed": false
   }
  }
 ],
 "metadata": {
  "kernelspec": {
   "display_name": "Python 3",
   "language": "python",
   "name": "python3"
  },
  "language_info": {
   "codemirror_mode": {
    "name": "ipython",
    "version": 2
   },
   "file_extension": ".py",
   "mimetype": "text/x-python",
   "name": "python",
   "nbconvert_exporter": "python",
   "pygments_lexer": "ipython2",
   "version": "2.7.6"
  }
 },
 "nbformat": 4,
 "nbformat_minor": 0
}
