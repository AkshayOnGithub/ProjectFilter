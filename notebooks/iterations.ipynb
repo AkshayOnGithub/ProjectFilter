{
 "cells": [
  {
   "cell_type": "markdown",
   "source": [
    "# Goals of the notebook\n",
    "\n",
    "*Disclaimer: This is work in progress and notebook files are in the process of being re-organized.*\n",
    "\n",
    "The goal of this notebook is to provide an overview of the automation that has been put in place to run experiments and analyze the results, which allows fast iterations and reproducibility.\n",
    "Observations and next steps are documented in file TODO.md in same folder.\n",
    "\n",
    "Recall that our filter is supposed to detect Out-Of-Domain (OOD) sentences from In-Domain (ID) sentences in a conversation between a support agent and a customer.\n",
    "The goal is to build a system that can be used by any call-center-like that just provides its Knowledge-Base to train the system.\n",
    "\n",
    "Here the knowledgebase/domain (ID) is an FAQ scrapped from the internet. The FAQs tested are:\n",
    "- the Europcar website (from https://faq.europcar.com/ and subpages). The domain is a \"Car rental\" company.\n",
    "- The NIH website (from https://seed.nih.gov/faqs). The domain is \"Innovation in Health\".\n",
    "- the FDA website (from https://www.fda.gov/ specifically the Covid-19 faq). The domain is \"Covid\".\n",
    "- the Olympics website (from https://olympics.com/ioc/faq and subpages). The domain is \"Olympics\".\n",
    "- the WWF website (from https://www.wwf.org.uk/faqs and subpages). The domain is \"World Wildlife Fund\".\n",
    "- the Fedora FAQ (from https://fedoraproject.org/wiki/FAQ#Getting_Started). The domain is the \"Fedora Linux Project\".\n",
    "\n",
    "Each model built is specific (trained-on) a single FAQ."
   ],
   "metadata": {
    "collapsed": false
   }
  },
  {
   "cell_type": "markdown",
   "source": [
    "## Code put in place\n",
    "\n",
    "The folders of the project relevant to this notebook are:\n",
    "- `train`: contains the code to run some training from a \"model-card\" file. A model card is a yaml file that looks like bellow. Each run of an experiment creates its own subfolder in `train/outputs` that contains the model card used, the training logs, the model weights, the validation results, etc. (Uses [hydra](https://hydra.cc/) behind the scenes)\n",
    "```yaml\n",
    "name: GaussianEmbeddingsAnomalyDetector\n",
    "run_params:\n",
    "  embedder_name: all-MiniLM-L6-v2\n",
    "  robust_covariance: true\n",
    "datasets:\n",
    "  train_id_datasets:\n",
    "  - olympics\n",
    "  train_ood_datasets: []\n",
    "  validation_id_dataset: validation_olympics_id\n",
    "  validation_ood_dataset: validation_olympics_ood\n",
    "```\n",
    "\n",
    "\n",
    "- `dataload`: abstraction of the datafiles for easier loading when files are moved around (in code files are designated by simple name like \"fda\" or \"olympics\" regarless of folder location)\n",
    "- `analysis`: contains some code to track experiments (similar to MLFlow - but didn't know about this at the time) and to analyze the results\n",
    "- `gen`: generate validation and test datasets by randomly selection utterances from the chatterbox dataset and from the faqs\n",
    "- `resources/scraping`: contains the scraped FAQs -each being a different domain. The scraping code for each can be found in `scraping/scraping.py`\n"
   ],
   "metadata": {
    "collapsed": false
   }
  },
  {
   "cell_type": "markdown",
   "source": [
    "## Some experiments run\n",
    "\n",
    "They vary mainly on the following things:\n",
    "- the domain used for training. Each corresponding to a different FAQ (e.g. olympics, fda, etc.)\n",
    "- the embeddings model used for training (e.g. all-MiniLM-L6-v2, all-mpnet-base-v2, etc.)"
   ],
   "metadata": {
    "collapsed": false
   }
  },
  {
   "cell_type": "code",
   "execution_count": 1,
   "metadata": {
    "collapsed": true
   },
   "outputs": [],
   "source": [
    "from analysis.experiments import Experiments\n",
    "from pathlib import Path\n",
    "\n",
    "experiments = Experiments(Path(\"../train/outputs\"))"
   ]
  },
  {
   "cell_type": "code",
   "execution_count": 2,
   "outputs": [
    {
     "name": "stdout",
     "output_type": "stream",
     "text": [
      "===== 2023-01-28 08-50-31 =====\n",
      "Status: SUCCESS\n",
      "F1-Score: 0.981\n",
      "Info:\n",
      "\tPipelineInfoCard(name='GaussianEmbeddingsAnomalyDetector',\n",
      "\t                 run_params={'embedder_name': 'all-mpnet-base-v2',\n",
      "\t                             'robust_covariance': True},\n",
      "\t                 datasets=FilterTrainFiles(train_id=['europcar'],\n",
      "\t                                           train_ood=[],\n",
      "\t                                           validation_id='validation_id',\n",
      "\t                                           validation_ood='validation_ood'))\n",
      "\n",
      "===== 2023-01-28 09-41-34 =====\n",
      "Status: SUCCESS\n",
      "F1-Score: 0.98\n",
      "Info:\n",
      "\tPipelineInfoCard(name='GaussianEmbeddingsAnomalyDetector',\n",
      "\t                 run_params={'embedder_name': 'all-MiniLM-L6-v2',\n",
      "\t                             'robust_covariance': True},\n",
      "\t                 datasets=FilterTrainFiles(train_id=['europcar'],\n",
      "\t                                           train_ood=[],\n",
      "\t                                           validation_id='validation_id',\n",
      "\t                                           validation_ood='validation_ood'))\n",
      "\n",
      "===== 2023-02-12 22-14-19 =====\n",
      "Status: SUCCESS\n",
      "F1-Score: 0.993\n",
      "Info:\n",
      "\tPipelineInfoCard(name='GaussianEmbeddingsAnomalyDetector',\n",
      "\t                 run_params={'embedder_name': 'all-MiniLM-L6-v2',\n",
      "\t                             'robust_covariance': True},\n",
      "\t                 datasets=FilterTrainFiles(train_id=['nih'],\n",
      "\t                                           train_ood=[],\n",
      "\t                                           validation_id='validation_nih_id',\n",
      "\t                                           validation_ood='validation_nih_ood'))\n",
      "\n",
      "===== 2023-02-13 00-03-32 =====\n",
      "Status: SUCCESS\n",
      "F1-Score: 0.987\n",
      "Info:\n",
      "\tPipelineInfoCard(name='GaussianEmbeddingsAnomalyDetector',\n",
      "\t                 run_params={'embedder_name': 'all-MiniLM-L6-v2',\n",
      "\t                             'robust_covariance': True},\n",
      "\t                 datasets=FilterTrainFiles(train_id=['wwf'],\n",
      "\t                                           train_ood=[],\n",
      "\t                                           validation_id='validation_wwf_id',\n",
      "\t                                           validation_ood='validation_wwf_ood'))\n",
      "\n",
      "===== 2023-02-13 00-08-58 =====\n",
      "Status: SUCCESS\n",
      "F1-Score: 0.993\n",
      "Info:\n",
      "\tPipelineInfoCard(name='GaussianEmbeddingsAnomalyDetector',\n",
      "\t                 run_params={'embedder_name': 'all-MiniLM-L6-v2',\n",
      "\t                             'robust_covariance': True},\n",
      "\t                 datasets=FilterTrainFiles(train_id=['fda'],\n",
      "\t                                           train_ood=[],\n",
      "\t                                           validation_id='validation_fda_id',\n",
      "\t                                           validation_ood='validation_fda_ood'))\n",
      "\n",
      "===== 2023-02-13 00-10-11 =====\n",
      "Status: SUCCESS\n",
      "F1-Score: 1.0\n",
      "Info:\n",
      "\tPipelineInfoCard(name='GaussianEmbeddingsAnomalyDetector',\n",
      "\t                 run_params={'embedder_name': 'all-MiniLM-L6-v2',\n",
      "\t                             'robust_covariance': True},\n",
      "\t                 datasets=FilterTrainFiles(train_id=['olympics'],\n",
      "\t                                           train_ood=[],\n",
      "\t                                           validation_id='validation_olympics_id',\n",
      "\t                                           validation_ood='validation_olympics_ood'))\n",
      "\n",
      "===== 2023-02-13 12-30-40 =====\n",
      "Status: SUCCESS\n",
      "F1-Score: 0.993\n",
      "Info:\n",
      "\tPipelineInfoCard(name='GaussianEmbeddingsAnomalyDetector',\n",
      "\t                 run_params={'embedder_name': 'all-MiniLM-L6-v2',\n",
      "\t                             'robust_covariance': True},\n",
      "\t                 datasets=FilterTrainFiles(train_id=['wwf'],\n",
      "\t                                           train_ood=[],\n",
      "\t                                           validation_id='validation_wwf_id',\n",
      "\t                                           validation_ood='validation_wwf_ood'))\n",
      "\n"
     ]
    }
   ],
   "source": [
    "for exp in sorted(experiments.list()):\n",
    "    if exp.success:\n",
    "        print(exp)"
   ],
   "metadata": {
    "collapsed": false
   }
  },
  {
   "cell_type": "markdown",
   "source": [
    "## Some results\n",
    "\n",
    "For result analysis and dataset analysis (yes some additional pre-processing will be required for better results), we will use mainly 3 tools\n",
    "\n",
    "1. Histograms on the validation and test sets: Those histogram plot the maha distance of the embeddings for each sentence of the set (a mix of ID and OOD sentences). Is also displays the computed cutoff. For details please refer to the notebook `performance_baseline.ipynb` in same folder"
   ],
   "metadata": {
    "collapsed": false
   }
  },
  {
   "cell_type": "code",
   "execution_count": 3,
   "outputs": [
    {
     "name": "stderr",
     "output_type": "stream",
     "text": [
      "[nltk_data] Downloading package wordnet to /Users/jlinho/nltk_data...\n",
      "[nltk_data]   Package wordnet is already up-to-date!\n",
      "[nltk_data] Downloading package stopwords to\n",
      "[nltk_data]     /Users/jlinho/nltk_data...\n",
      "[nltk_data]   Package stopwords is already up-to-date!\n"
     ]
    },
    {
     "name": "stdout",
     "output_type": "stream",
     "text": [
      "===== 2023-02-13 00-03-32 =====\n",
      "Status: SUCCESS\n",
      "F1-Score: 0.987\n",
      "Info:\n",
      "\tPipelineInfoCard(name='GaussianEmbeddingsAnomalyDetector',\n",
      "\t                 run_params={'embedder_name': 'all-MiniLM-L6-v2',\n",
      "\t                             'robust_covariance': True},\n",
      "\t                 datasets=FilterTrainFiles(train_id=['wwf'],\n",
      "\t                                           train_ood=[],\n",
      "\t                                           validation_id='validation_wwf_id',\n",
      "\t                                           validation_ood='validation_wwf_ood'))\n",
      "\n"
     ]
    },
    {
     "data": {
      "text/plain": "<Figure size 640x480 with 1 Axes>",
      "image/png": "[encoded data removed]"
     },
     "metadata": {},
     "output_type": "display_data"
    }
   ],
   "source": [
    "from analysis.histograms import plot_cutoff_histogram\n",
    "\n",
    "experiment_name = \"2023-02-13 00-03-32\"\n",
    "experiment_folder = experiments.find_folder(experiment_name)\n",
    "print(experiments.find(experiment_name))\n",
    "plot_cutoff_histogram(experiment_folder)"
   ],
   "metadata": {
    "collapsed": false
   }
  },
  {
   "cell_type": "markdown",
   "source": [
    "2. Embedding visualization: This is a 2D or 3D projection of the embeddings tensorboard projector. From each experiment we can produce embeddings of every sentence of the FAQ. The goal is to identify sentences that are part of the FAQ/Domain but not so domain specific  like: \"Click here for more information\", \"For futher info click here\", etc. Let's call those sentences **Stop Sentences** . For more information please look at the notebook `embeddings_eda.ipynb` in same folder. Those vizualitions are usefull to identify more pre-processing steps to make each domain more \"specific\", \"domain-dense\". Those vizualizations look like this (here on dataset `europcar`): ![embeddings1](useless_sentences.png)"
   ],
   "metadata": {
    "collapsed": false
   }
  },
  {
   "cell_type": "markdown",
   "source": [
    "3. Listing of misclassified sentences"
   ],
   "metadata": {
    "collapsed": false
   }
  },
  {
   "cell_type": "code",
   "execution_count": 3,
   "outputs": [],
   "source": [],
   "metadata": {
    "collapsed": false
   }
  }
 ],
 "metadata": {
  "kernelspec": {
   "display_name": "Python 3",
   "language": "python",
   "name": "python3"
  },
  "language_info": {
   "codemirror_mode": {
    "name": "ipython",
    "version": 2
   },
   "file_extension": ".py",
   "mimetype": "text/x-python",
   "name": "python",
   "nbconvert_exporter": "python",
   "pygments_lexer": "ipython2",
   "version": "2.7.6"
  }
 },
 "nbformat": 4,
 "nbformat_minor": 0
}
