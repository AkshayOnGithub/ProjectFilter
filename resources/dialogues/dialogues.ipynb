{
 "cells": [
  {
   "cell_type": "code",
   "execution_count": null,
   "metadata": {},
   "outputs": [],
   "source": [
    "import csv\n",
    "import yaml\n",
    "import pandas as pd\n",
    "\n",
    "\n",
    "# Open the CSV file for reading\n",
    "with open('input.csv', newline='') as csvfile:\n",
    "    # Read the contents of the CSV file into a dictionary\n",
    "    reader = csv.DictReader(csvfile)\n",
    "    data = [row for row in reader]\n",
    "\n",
    "# Convert the dictionary to YAML and write it to a file\n",
    "with open('output.yaml', 'w') as yamlfile:\n",
    "    yaml.dump(data, yamlfile, default_flow_style=False)\n"
   ]
  }
 ],
 "metadata": {
  "kernelspec": {
   "display_name": "mle11",
   "language": "python",
   "name": "python3"
  },
  "language_info": {
   "name": "python",
   "version": "3.10.9"
  },
  "orig_nbformat": 4,
  "vscode": {
   "interpreter": {
    "hash": "f5d6e23cc21c3c22d5d038dfc2dc514a112c246cb6af6beae11f4484b62ad85b"
   }
  }
 },
 "nbformat": 4,
 "nbformat_minor": 2
}
